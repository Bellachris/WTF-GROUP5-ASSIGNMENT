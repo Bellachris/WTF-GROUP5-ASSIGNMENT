{
 "cells": [
  {
   "cell_type": "code",
   "execution_count": null,
   "id": "a7ed062e",
   "metadata": {},
   "outputs": [],
   "source": [
    "1. Print the First 10 natural numbers \n",
    "2. Calculate the sum of all numbers from 1 to a given number\n",
    "3. Write a program to print a multiplication table of a given number\n",
    "4. Display numbers from a list using loop\n",
    "5. Count the total number of digits in a number\n",
    "6. Write a program to display all prime numbers within a range\n"
   ]
  },
  {
   "cell_type": "code",
   "execution_count": 1,
   "id": "3c4c3ee2",
   "metadata": {},
   "outputs": [
    {
     "name": "stdout",
     "output_type": "stream",
     "text": [
      "1\n",
      "2\n",
      "3\n",
      "4\n",
      "5\n",
      "6\n",
      "7\n",
      "8\n",
      "9\n",
      "10\n"
     ]
    }
   ],
   "source": [
    "#1.Print the First 10 natural numbers\n",
    "natural_number = (1, 2, 3, 4, 5, 6, 7, 8, 9, 10)\n",
    "for x in range (1, 11):\n",
    "    print (x)\n"
   ]
  },
  {
   "cell_type": "code",
   "execution_count": 19,
   "id": "e19996f0",
   "metadata": {},
   "outputs": [
    {
     "name": "stdout",
     "output_type": "stream",
     "text": [
      "78\n"
     ]
    }
   ],
   "source": [
    "#2.Calculate the sum of all numbers from 1 to a given number\n",
    "numbers = (1, 2, 3, 4, 5, 6, 7, 8, 9, 10, 11, 12)\n",
    "number_total = sum(numbers)\n",
    "print (number_total)"
   ]
  },
  {
   "cell_type": "code",
   "execution_count": 31,
   "id": "e6f9dbd7",
   "metadata": {},
   "outputs": [
    {
     "name": "stdout",
     "output_type": "stream",
     "text": [
      "multiplication of 5\n",
      "5 x 1 = 5\n",
      "5 x 2 = 10\n",
      "5 x 3 = 15\n",
      "5 x 4 = 20\n",
      "5 x 5 = 25\n",
      "5 x 6 = 30\n",
      "5 x 7 = 35\n",
      "5 x 8 = 40\n",
      "5 x 9 = 45\n",
      "5 x 10 = 50\n",
      "5 x 11 = 55\n",
      "5 x 12 = 60\n"
     ]
    }
   ],
   "source": [
    "#3.Write a program to print a multiplication table of a given number\n",
    "number = 5\n",
    "print('multiplication of 5')\n",
    "count = (1, 2, 3, 4, 5, 6, 7, 8, 9, 10, 11, 12)\n",
    "for i in count:\n",
    "    print (number,'x',i,'=',number*i)"
   ]
  },
  {
   "cell_type": "code",
   "execution_count": 46,
   "id": "4b42e795",
   "metadata": {},
   "outputs": [
    {
     "name": "stdout",
     "output_type": "stream",
     "text": [
      "1\n",
      "2\n",
      "3\n",
      "4\n",
      "5\n"
     ]
    }
   ],
   "source": [
    "#4.Display numbers from a list using loop\n",
    "x=[1,2,3,4,5]\n",
    "i=1\n",
    "while i<=5:\n",
    "    print(i)\n",
    "    i= i+1\n",
    "    \n"
   ]
  },
  {
   "cell_type": "code",
   "execution_count": 47,
   "id": "373f71c5",
   "metadata": {},
   "outputs": [
    {
     "name": "stdout",
     "output_type": "stream",
     "text": [
      "5\n"
     ]
    }
   ],
   "source": [
    "#5. Count the total number of digits in a number\n",
    "x='12459'\n",
    "y=len(x)\n",
    "print(y)"
   ]
  },
  {
   "cell_type": "code",
   "execution_count": 60,
   "id": "8fd35711",
   "metadata": {},
   "outputs": [
    {
     "name": "stdout",
     "output_type": "stream",
     "text": [
      " 2   3   5   7   11   13   17   19   23   29   31   37   41   43   47   53   59   61   67   71   73   79   83   89   97  "
     ]
    }
   ],
   "source": [
    "Number = 1\n",
    " \n",
    "while(Number <= 100):\n",
    "    count = 0\n",
    "    i = 2\n",
    "\n",
    "    while(i <= Number//2):\n",
    "        if(Number % i == 0):\n",
    "            count = count + 1\n",
    "            break\n",
    "        i = i + 1\n",
    " \n",
    "    if (count == 0 and Number != 1):\n",
    "        print(\" %d\" %Number, end = '  ')\n",
    "    Number = Number  + 1"
   ]
  },
  {
   "cell_type": "code",
   "execution_count": null,
   "id": "d08cb842",
   "metadata": {},
   "outputs": [],
   "source": []
  }
 ],
 "metadata": {
  "kernelspec": {
   "display_name": "Python 3 (ipykernel)",
   "language": "python",
   "name": "python3"
  },
  "language_info": {
   "codemirror_mode": {
    "name": "ipython",
    "version": 3
   },
   "file_extension": ".py",
   "mimetype": "text/x-python",
   "name": "python",
   "nbconvert_exporter": "python",
   "pygments_lexer": "ipython3",
   "version": "3.9.12"
  }
 },
 "nbformat": 4,
 "nbformat_minor": 5
}
